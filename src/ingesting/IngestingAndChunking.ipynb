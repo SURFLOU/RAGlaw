{
 "cells": [
  {
   "cell_type": "code",
   "execution_count": 39,
   "id": "e761f8c0-e287-4d29-a1f2-5b3e0655ebca",
   "metadata": {},
   "outputs": [],
   "source": [
    "from typing import List\n",
    "import time \n",
    "from langchain_community.document_loaders import PyPDFLoader\n",
    "def load_pdf(files: List[str]) -> List[dict]:\n",
    "    \"\"\" Load given set of pdfs and returns List of dictionaries with pdf content \"\"\"\n",
    "    pages = []\n",
    "    for file in files:\n",
    "        loader = PyPDFLoader(file)\n",
    "        for page in loader.lazy_load():\n",
    "            pages.append(page)\n",
    "    return pages\n",
    "\n",
    "files = ['data/kodekskarny2.pdf']\n",
    "ingested_data = load_pdf(files)\n"
   ]
  },
  {
   "cell_type": "code",
   "execution_count": 88,
   "id": "c75242dd-33c9-4aa6-a065-f9f4c438965d",
   "metadata": {},
   "outputs": [],
   "source": [
    "def chunk_data(data: List[dict]) -> List[dict]:\n",
    "    \"\"\" This function chunks page content to text, article_number and paragraph_number \"\"\"\n",
    "    import re\n",
    "    chunks = []\n",
    "    pattern = r'(Art\\.\\s+\\d+.*?)\\s*(?=Art\\.\\s+\\d+|$)'\n",
    "    pattern_for_paragraphs = r'(?=§\\s*\\d+\\.)'\n",
    "    for page in ingested_data:\n",
    "        try:\n",
    "            text = page.page_content.replace('\\xa0', '').replace('\\n', '')\n",
    "            splitted_per_article = re.findall(pattern, text, re.DOTALL)\n",
    "            for article in splitted_per_article:\n",
    "                article_number = article.split('[')[0]\n",
    "                if '§' in article:\n",
    "                    splitted_per_paragraph = re.split(pattern_for_paragraphs, article)\n",
    "                    paragraphs = splitted_per_paragraph[1:] # Remove first element of list with article name\n",
    "                    for paragraph in paragraphs:\n",
    "                        paragraph_number = paragraph.split('§')[1].split('.')[0].strip()\n",
    "                        index_of_paragraph_number = paragraph.index(paragraph_number)\n",
    "                        text = paragraph[index_of_paragraph_number+1:]\n",
    "                        chunks.append({'article_number': article_number, 'paragraph_number': paragraph_number, 'text': text})\n",
    "                else:\n",
    "                    chunks.append({'article_number': article_number, 'paragraph_number': None, 'text': article.split(']')[1]})\n",
    "        except Exception as e:\n",
    "            print(e)\n",
    "            pass\n",
    "            \n",
    "    return chunks \n",
    "            "
   ]
  },
  {
   "cell_type": "code",
   "execution_count": 89,
   "id": "66843335-7073-4535-a7fc-95a5f96cab44",
   "metadata": {},
   "outputs": [
    {
     "name": "stdout",
     "output_type": "stream",
     "text": [
      "list index out of range\n",
      "list index out of range\n",
      "list index out of range\n",
      "list index out of range\n",
      "list index out of range\n",
      "list index out of range\n",
      "list index out of range\n",
      "list index out of range\n",
      "list index out of range\n",
      "list index out of range\n",
      "list index out of range\n",
      "list index out of range\n",
      "list index out of range\n",
      "list index out of range\n",
      "list index out of range\n",
      "list index out of range\n",
      "list index out of range\n",
      "{'article_number': 'Art. 363. ', 'paragraph_number': '2', 'text': '.Ściganie następuje na wniosek dowódcy jednostki.1 Niniejsza ustawa w zakresie swojej regulacji realizuje postanowienia:1) dyrektywy Parlamentu Europejskiego i Rady (UE) 2018/1673 z dnia 23 października 2018 r. w sprawie zwalczania praniapieniędzy za pomocą środków prawnokarnych (Dz. Urz. UE L 284 z 12.11.2018, str. 22);2) dyrektywy Parlamentu Europejskiego i Rady (UE) 2019/713 z dnia 17 kwietnia 2019 r. w sprawie zwalczania fałszowania ioszustw związanych z bezgotówkowymi środkami płatniczymi, zastępującej decyzję ramową Rady 2001/413/WSiSW (Dz.Urz. UE L 123 z 10.05.2019, str. 18);3) dyrektywy Parlamentu Europejskiego i Rady 2011/93/UE z dnia 13 grudnia 2011 r. w sprawie zwalczania niegodziwegotraktowania w celach seksualnych i wykorzystywania seksualnego dzieci oraz pornografii dziecięcej, zastępującej decyzjęramową Rady 2004/68/WSiSW (Dz. Urz. UE L 335 z 17.12.2011, str. 1 oraz Dz. Urz. UE L 18 z 21.01.2012, str. 7).2'}\n"
     ]
    }
   ],
   "source": [
    "chunks = chunk_data(ingested_data)\n",
    "print(chunks[846])"
   ]
  },
  {
   "cell_type": "code",
   "execution_count": 91,
   "id": "a6e6f0d9-d371-4419-bb47-08bd9880147f",
   "metadata": {},
   "outputs": [
    {
     "name": "stdout",
     "output_type": "stream",
     "text": [
      "Requirement already satisfied: fastembed in ./.venv/lib/python3.12/site-packages (0.5.1)\n",
      "Requirement already satisfied: huggingface-hub<1.0,>=0.20 in ./.venv/lib/python3.12/site-packages (from fastembed) (0.29.1)\n",
      "Requirement already satisfied: loguru<0.8.0,>=0.7.2 in ./.venv/lib/python3.12/site-packages (from fastembed) (0.7.3)\n",
      "Requirement already satisfied: mmh3<5.0.0,>=4.1.0 in ./.venv/lib/python3.12/site-packages (from fastembed) (4.1.0)\n",
      "Requirement already satisfied: numpy>=1.26 in ./.venv/lib/python3.12/site-packages (from fastembed) (2.2.3)\n",
      "Requirement already satisfied: onnxruntime!=1.20.0,>=1.17.0 in ./.venv/lib/python3.12/site-packages (from fastembed) (1.20.1)\n",
      "Requirement already satisfied: pillow<11.0.0,>=10.3.0 in ./.venv/lib/python3.12/site-packages (from fastembed) (10.4.0)\n",
      "Requirement already satisfied: py-rust-stemmers<0.2.0,>=0.1.0 in ./.venv/lib/python3.12/site-packages (from fastembed) (0.1.5)\n",
      "Requirement already satisfied: requests<3.0,>=2.31 in ./.venv/lib/python3.12/site-packages (from fastembed) (2.32.3)\n",
      "Requirement already satisfied: tokenizers<1.0,>=0.15 in ./.venv/lib/python3.12/site-packages (from fastembed) (0.21.0)\n",
      "Requirement already satisfied: tqdm<5.0,>=4.66 in ./.venv/lib/python3.12/site-packages (from fastembed) (4.67.1)\n",
      "Requirement already satisfied: filelock in ./.venv/lib/python3.12/site-packages (from huggingface-hub<1.0,>=0.20->fastembed) (3.17.0)\n",
      "Requirement already satisfied: fsspec>=2023.5.0 in ./.venv/lib/python3.12/site-packages (from huggingface-hub<1.0,>=0.20->fastembed) (2025.2.0)\n",
      "Requirement already satisfied: packaging>=20.9 in ./.venv/lib/python3.12/site-packages (from huggingface-hub<1.0,>=0.20->fastembed) (24.2)\n",
      "Requirement already satisfied: pyyaml>=5.1 in ./.venv/lib/python3.12/site-packages (from huggingface-hub<1.0,>=0.20->fastembed) (6.0.2)\n",
      "Requirement already satisfied: typing-extensions>=3.7.4.3 in ./.venv/lib/python3.12/site-packages (from huggingface-hub<1.0,>=0.20->fastembed) (4.12.2)\n",
      "Requirement already satisfied: coloredlogs in ./.venv/lib/python3.12/site-packages (from onnxruntime!=1.20.0,>=1.17.0->fastembed) (15.0.1)\n",
      "Requirement already satisfied: flatbuffers in ./.venv/lib/python3.12/site-packages (from onnxruntime!=1.20.0,>=1.17.0->fastembed) (25.2.10)\n",
      "Requirement already satisfied: protobuf in ./.venv/lib/python3.12/site-packages (from onnxruntime!=1.20.0,>=1.17.0->fastembed) (5.29.3)\n",
      "Requirement already satisfied: sympy in ./.venv/lib/python3.12/site-packages (from onnxruntime!=1.20.0,>=1.17.0->fastembed) (1.13.3)\n",
      "Requirement already satisfied: charset-normalizer<4,>=2 in ./.venv/lib/python3.12/site-packages (from requests<3.0,>=2.31->fastembed) (3.4.1)\n",
      "Requirement already satisfied: idna<4,>=2.5 in ./.venv/lib/python3.12/site-packages (from requests<3.0,>=2.31->fastembed) (3.10)\n",
      "Requirement already satisfied: urllib3<3,>=1.21.1 in ./.venv/lib/python3.12/site-packages (from requests<3.0,>=2.31->fastembed) (2.3.0)\n",
      "Requirement already satisfied: certifi>=2017.4.17 in ./.venv/lib/python3.12/site-packages (from requests<3.0,>=2.31->fastembed) (2025.1.31)\n",
      "Requirement already satisfied: humanfriendly>=9.1 in ./.venv/lib/python3.12/site-packages (from coloredlogs->onnxruntime!=1.20.0,>=1.17.0->fastembed) (10.0)\n",
      "Requirement already satisfied: mpmath<1.4,>=1.1.0 in ./.venv/lib/python3.12/site-packages (from sympy->onnxruntime!=1.20.0,>=1.17.0->fastembed) (1.3.0)\n",
      "Collecting pymilvus\n",
      "  Using cached pymilvus-2.5.4-py3-none-any.whl.metadata (5.7 kB)\n",
      "Requirement already satisfied: setuptools>69 in ./.venv/lib/python3.12/site-packages (from pymilvus) (75.8.0)\n",
      "Collecting grpcio<=1.67.1,>=1.49.1 (from pymilvus)\n",
      "  Using cached grpcio-1.67.1-cp312-cp312-manylinux_2_17_x86_64.manylinux2014_x86_64.whl.metadata (3.9 kB)\n",
      "Requirement already satisfied: protobuf>=3.20.0 in ./.venv/lib/python3.12/site-packages (from pymilvus) (5.29.3)\n",
      "Requirement already satisfied: python-dotenv<2.0.0,>=1.0.1 in ./.venv/lib/python3.12/site-packages (from pymilvus) (1.0.1)\n",
      "Collecting ujson>=2.0.0 (from pymilvus)\n",
      "  Using cached ujson-5.10.0-cp312-cp312-manylinux_2_17_x86_64.manylinux2014_x86_64.whl.metadata (9.3 kB)\n",
      "Collecting pandas>=1.2.4 (from pymilvus)\n",
      "  Using cached pandas-2.2.3-cp312-cp312-manylinux_2_17_x86_64.manylinux2014_x86_64.whl.metadata (89 kB)\n",
      "Collecting milvus-lite>=2.4.0 (from pymilvus)\n",
      "  Using cached milvus_lite-2.4.11-py3-none-manylinux2014_x86_64.whl.metadata (9.2 kB)\n",
      "Requirement already satisfied: tqdm in ./.venv/lib/python3.12/site-packages (from milvus-lite>=2.4.0->pymilvus) (4.67.1)\n",
      "Requirement already satisfied: numpy>=1.26.0 in ./.venv/lib/python3.12/site-packages (from pandas>=1.2.4->pymilvus) (2.2.3)\n",
      "Requirement already satisfied: python-dateutil>=2.8.2 in ./.venv/lib/python3.12/site-packages (from pandas>=1.2.4->pymilvus) (2.9.0.post0)\n",
      "Collecting pytz>=2020.1 (from pandas>=1.2.4->pymilvus)\n",
      "  Using cached pytz-2025.1-py2.py3-none-any.whl.metadata (22 kB)\n",
      "Collecting tzdata>=2022.7 (from pandas>=1.2.4->pymilvus)\n",
      "  Using cached tzdata-2025.1-py2.py3-none-any.whl.metadata (1.4 kB)\n",
      "Requirement already satisfied: six>=1.5 in ./.venv/lib/python3.12/site-packages (from python-dateutil>=2.8.2->pandas>=1.2.4->pymilvus) (1.17.0)\n",
      "Using cached pymilvus-2.5.4-py3-none-any.whl (222 kB)\n",
      "Using cached grpcio-1.67.1-cp312-cp312-manylinux_2_17_x86_64.manylinux2014_x86_64.whl (5.9 MB)\n",
      "Using cached milvus_lite-2.4.11-py3-none-manylinux2014_x86_64.whl (45.2 MB)\n",
      "Using cached pandas-2.2.3-cp312-cp312-manylinux_2_17_x86_64.manylinux2014_x86_64.whl (12.7 MB)\n",
      "Using cached ujson-5.10.0-cp312-cp312-manylinux_2_17_x86_64.manylinux2014_x86_64.whl (53 kB)\n",
      "Using cached pytz-2025.1-py2.py3-none-any.whl (507 kB)\n",
      "Using cached tzdata-2025.1-py2.py3-none-any.whl (346 kB)\n",
      "Installing collected packages: pytz, ujson, tzdata, milvus-lite, grpcio, pandas, pymilvus\n",
      "Successfully installed grpcio-1.67.1 milvus-lite-2.4.11 pandas-2.2.3 pymilvus-2.5.4 pytz-2025.1 tzdata-2025.1 ujson-5.10.0\n"
     ]
    }
   ],
   "source": [
    "!pip install fastembed\n",
    "!pip install pymilvus"
   ]
  },
  {
   "cell_type": "code",
   "execution_count": 105,
   "id": "ae4bce67-41c6-40d7-92dc-e64e33e53bd7",
   "metadata": {},
   "outputs": [],
   "source": [
    "from pymilvus import connections, Collection, CollectionSchema, FieldSchema, DataType, utility\n",
    "from fastembed import TextEmbedding\n",
    "\n",
    "\n",
    "def create_milvus_collection(host: str = 'localhost', port: str = '19530', collection_name: str = 'kodekskarny_embedd') -> Collection:\n",
    "    \"\"\" This function connect to Milvus DB and create collection, if collection already exists it connects to it \"\"\"\n",
    "    connections.connect(alias=\"default\", uri=f\"http://{host}:{port}\")\n",
    "    \n",
    "    if collection_name in utility.list_collections():\n",
    "        collection = Collection(name=collection_name)\n",
    "    else:\n",
    "        pk_field = FieldSchema(name=\"pk\", dtype=DataType.INT64, is_primary=True, auto_id=True)\n",
    "        vector_field = FieldSchema(name=\"vector\", dtype=DataType.FLOAT_VECTOR, dim=384) \n",
    "        text_field = FieldSchema(name=\"text\", dtype=DataType.VARCHAR, max_length=4096)\n",
    "        article_field = FieldSchema(name=\"article\", dtype=DataType.VARCHAR, max_length=512)\n",
    "        paragraph_field = FieldSchema(name=\"paragraph\", dtype=DataType.VARCHAR, max_length=512)\n",
    "    \n",
    "        schema = CollectionSchema(fields=[pk_field, vector_field, text_field, article_field, paragraph_field], description=\"Collection for document embeddings\")\n",
    "    \n",
    "        collection = Collection(name=collection_name, schema=schema)\n",
    "    \n",
    "\n",
    "        index_params = {\"metric_type\": \"L2\", \"index_type\": \"IVF_FLAT\", \"params\": {\"nlist\": 128}}\n",
    "        collection.create_index(field_name=\"vector\", index_params=index_params)\n",
    "\n",
    "    collection.load()\n",
    "    \n",
    "    print(f\"Collection '{collection_name}' is ready for insertion!\")\n",
    "    return collection"
   ]
  },
  {
   "cell_type": "code",
   "execution_count": 104,
   "id": "1424893e-9efe-47e6-aacf-539653f7a6b7",
   "metadata": {},
   "outputs": [
    {
     "name": "stdout",
     "output_type": "stream",
     "text": [
      "Collection 'kodekskarny_embedd' is ready for insertion!\n"
     ]
    }
   ],
   "source": [
    "collection = create_milvus_collection(port='19530')"
   ]
  },
  {
   "cell_type": "code",
   "execution_count": 2,
   "id": "1d33b4cd-2c07-484e-b9f8-7e1ac3deb7c1",
   "metadata": {},
   "outputs": [
    {
     "ename": "NameError",
     "evalue": "name 'List' is not defined",
     "output_type": "error",
     "traceback": [
      "\u001b[0;31m---------------------------------------------------------------------------\u001b[0m",
      "\u001b[0;31mNameError\u001b[0m                                 Traceback (most recent call last)",
      "Cell \u001b[0;32mIn[2], line 1\u001b[0m\n\u001b[0;32m----> 1\u001b[0m \u001b[38;5;28;01mdef\u001b[39;00m\u001b[38;5;250m \u001b[39m\u001b[38;5;21minsert_chunks_to_milvus\u001b[39m(chunks: \u001b[43mList\u001b[49m[\u001b[38;5;28mdict\u001b[39m], collection: Collection):\n\u001b[1;32m      2\u001b[0m \u001b[38;5;250m    \u001b[39m\u001b[38;5;124;03m\"\"\"Embeds and inserts chunked data into Milvus.\"\"\"\u001b[39;00m\n\u001b[1;32m      4\u001b[0m     embedding_model \u001b[38;5;241m=\u001b[39m TextEmbedding()\n",
      "\u001b[0;31mNameError\u001b[0m: name 'List' is not defined"
     ]
    }
   ],
   "source": [
    "def insert_chunks_to_milvus(chunks: List[dict], collection: Collection):\n",
    "    \"\"\"Embeds and inserts chunked data into Milvus.\"\"\"\n",
    "    \n",
    "    embedding_model = TextEmbedding()\n",
    "    print(\"The model BAAI/bge-small-en-v1.5 is ready to use.\")\n",
    "    \n",
    "    texts = [chunk[\"text\"] for chunk in chunks]\n",
    "    articles = [chunk[\"article_number\"] for chunk in chunks]\n",
    "    paragraphs = [chunk[\"paragraph_number\"] for chunk in chunks]\n",
    "    \n",
    "    embeddings_generator = embedding_model.embed(texts)\n",
    "    embeddings_list = list(embeddings_generator)\n",
    "    \n",
    "    entities = [\n",
    "        {\"vector\": embedding.tolist(), \"text\": text, \"articles\": articles, \"paragraphs\": paragraphs}\n",
    "        for embedding, text, articles, paragraphs in zip(embeddings_list, texts, articles, paragraphs)\n",
    "    ]\n",
    "\n",
    "    if entities:\n",
    "        collection.insert(entities)\n",
    "        print(f\"Inserted {len(entities)} records into '{COLLECTION_NAME}'.\")\n",
    "    else:\n",
    "        print(\"No records to insert.\")"
   ]
  },
  {
   "cell_type": "code",
   "execution_count": 1,
   "id": "2bfab989-a8d2-4efa-baf0-3741236e47bd",
   "metadata": {},
   "outputs": [
    {
     "ename": "NameError",
     "evalue": "name 'insert_chunks_to_milvus' is not defined",
     "output_type": "error",
     "traceback": [
      "\u001b[0;31m---------------------------------------------------------------------------\u001b[0m",
      "\u001b[0;31mNameError\u001b[0m                                 Traceback (most recent call last)",
      "Cell \u001b[0;32mIn[1], line 1\u001b[0m\n\u001b[0;32m----> 1\u001b[0m \u001b[43minsert_chunks_to_milvus\u001b[49m(chunks, collection)\n",
      "\u001b[0;31mNameError\u001b[0m: name 'insert_chunks_to_milvus' is not defined"
     ]
    }
   ],
   "source": [
    "insert_chunks_to_milvus(chunks, collection)"
   ]
  }
 ],
 "metadata": {
  "kernelspec": {
   "display_name": "Python 3 (ipykernel)",
   "language": "python",
   "name": "python3"
  },
  "language_info": {
   "codemirror_mode": {
    "name": "ipython",
    "version": 3
   },
   "file_extension": ".py",
   "mimetype": "text/x-python",
   "name": "python",
   "nbconvert_exporter": "python",
   "pygments_lexer": "ipython3",
   "version": "3.12.3"
  }
 },
 "nbformat": 4,
 "nbformat_minor": 5
}
